{
 "cells": [
  {
   "cell_type": "code",
   "execution_count": 19,
   "metadata": {},
   "outputs": [
    {
     "name": "stdout",
     "output_type": "stream",
     "text": [
      "2 3 4 5 6 1 \n",
      "7\n"
     ]
    },
    {
     "data": {
      "text/plain": [
       "'out of range'"
      ]
     },
     "execution_count": 19,
     "metadata": {},
     "output_type": "execute_result"
    }
   ],
   "source": [
    "# 1) There are N number of numbers in the series (34,56,78,23,45,89,56). Find Kth( ie 5th largest number)\n",
    "'''\n",
    "1) take user input for series of number seperated by space.\n",
    "2) input for kth element Kth largest.\n",
    "'''\n",
    "\n",
    "num = list(map(int, input().split()))\n",
    "kth = int(input())\n",
    "\n",
    "def f(x,y):\n",
    "    if y > len(x):\n",
    "        return \"out of range\"\n",
    "    x.sort()\n",
    "    print(x[y-1])\n",
    "   \n",
    "\n",
    "f(num,kth)\n"
   ]
  },
  {
   "cell_type": "code",
   "execution_count": 1,
   "metadata": {},
   "outputs": [
    {
     "name": "stdout",
     "output_type": "stream",
     "text": [
      "2 4 6 4 2 7 \n",
      "4\n",
      "[2, 4, 6, 4, 2, 7]\n",
      "[2, 2, 4, 6, 4, 7]\n"
     ]
    }
   ],
   "source": [
    "num = list(map(int, input().split()))\n",
    "kth = int(input())\n",
    "\n",
    "\n",
    "def f(x,y):\n",
    "    if y > len(x):\n",
    "        return \"out of range\"\n",
    "    sort_num = 0\n",
    "    print(x)\n",
    "    for i in range(len(x)-1):\n",
    "        for j in range(i+1,len(x)-i):\n",
    "             if x[i]>x[j]:\n",
    "                sort_num = x[j]\n",
    "                x[j]= x[i]\n",
    "                x[i]= sort_num\n",
    "    print(x)\n",
    "                \n",
    "        #print(sort_num)\n",
    "        \n",
    "    #print(x[y-1])\n",
    "   \n",
    "\n",
    "f(num,kth)\n"
   ]
  },
  {
   "cell_type": "code",
   "execution_count": null,
   "metadata": {},
   "outputs": [],
   "source": [
    "'''\n",
    "1. This program should take a string input. The program then counts number of digits and letters and prints them. \n",
    "\n",
    "Sample input:\n",
    "My daughter ----- is ---- years old and Son ---- is -- years old and they were born in 2011 and 2015 respectively\n",
    "\n",
    "sample output\n",
    "\n",
    "Number of digits  = 10\n",
    "Number of letters = --\n",
    "'''\n",
    "\n",
    "usr_input = input()\n",
    "\n",
    "digit_count = 0\n",
    "sp_count = 0\n",
    "for num in usr_input:\n",
    "    if num.isdigit():\n",
    "        digit_count += 1\n",
    "\n",
    "    if num.isspace(): \n",
    "        sp_count += 1\n",
    "total_letters = len(usr_input)-digit_count - sp_count\n",
    "print(\"Number of digit = \",digit_count)\n",
    "print(\"Number of letters = \",total_letters)\n",
    "\n",
    "\n"
   ]
  },
  {
   "cell_type": "code",
   "execution_count": 9,
   "metadata": {},
   "outputs": [
    {
     "name": "stdout",
     "output_type": "stream",
     "text": [
      "Annapurna\n",
      "4\n"
     ]
    }
   ],
   "source": [
    "'''\n",
    "Write a Python program to find number of vowel (a,e,i,o,u) letters in the string input by user.\n",
    "\n",
    "Sample input: Annapurna\n",
    "Sample output: Number of vowels = 4\n",
    "'''\n",
    "\n",
    "inp = input().lower()\n",
    "count = 0\n",
    "vowel = str((\"a\",\"e\",\"i\",\"o\",\"u\"))\n",
    "for i in inp:\n",
    "    if i in vowel:\n",
    "        count += 1\n",
    "print(count)        \n",
    "   "
   ]
  },
  {
   "cell_type": "code",
   "execution_count": 6,
   "metadata": {},
   "outputs": [
    {
     "name": "stdout",
     "output_type": "stream",
     "text": [
      "5\n",
      "5  x  1  =  5\n",
      "5  x  2  =  10\n",
      "5  x  3  =  15\n",
      "5  x  4  =  20\n",
      "5  x  5  =  25\n",
      "5  x  6  =  30\n",
      "5  x  7  =  35\n",
      "5  x  8  =  40\n",
      "5  x  9  =  45\n",
      "5  x  10  =  50\n"
     ]
    }
   ],
   "source": [
    "'''Write a Python program to create the multiplication table (from 1 to 10) of a number.\n",
    "\n",
    "Expected Output:\n",
    "\n",
    "Input a number: 6                                                       \n",
    "6 x 1 = 6                                                               \n",
    "6 x 2 = 12                                                              \n",
    "6 x 3 = 18                                                              \n",
    "6 x 4 = 24                                                              \n",
    "6 x 5 = 30                                                              \n",
    "6 x 6 = 36                                                              \n",
    "6 x 7 = 42                                                              \n",
    "6 x 8 = 48                                                              \n",
    "6 x 9 = 54                                                               \n",
    "6 x 10 = 60\n",
    "'''\n",
    "\n",
    "num = int(input())\n",
    "\n",
    "for i in range(1,11):\n",
    "    print(num,\" x \",i,\" = \",num * i)\n"
   ]
  },
  {
   "cell_type": "code",
   "execution_count": 28,
   "metadata": {},
   "outputs": [
    {
     "name": "stdout",
     "output_type": "stream",
     "text": [
      "SANJU\n",
      "\n",
      "S\n",
      "SA\n",
      "SAN\n",
      "SANJ\n",
      "SANJU\n",
      "SANJ\n",
      "SAN\n",
      "SA\n",
      "S\n"
     ]
    }
   ],
   "source": [
    "'''\n",
    "Take name of user and and print the name in following two formats\n",
    "\n",
    "Sample input:\n",
    "SANJU\n",
    "\n",
    "Sample output:\n",
    "S\n",
    "SA\n",
    "SAN\n",
    "SANJ\n",
    "SANJU\n",
    "SANJ\n",
    "SAN\n",
    "SA\n",
    "S\n",
    "\n",
    "'''\n",
    "name = input()\n",
    "for i in range(len(name)+1):\n",
    "    \n",
    "    print(name[0:i])\n",
    "for i in range(len(name)-1,0,-1):\n",
    "    print(name[0:i])"
   ]
  },
  {
   "cell_type": "code",
   "execution_count": 31,
   "metadata": {},
   "outputs": [
    {
     "name": "stdout",
     "output_type": "stream",
     "text": [
      " 0\n",
      "s 1\n",
      "sa 2\n",
      "san 3\n",
      "sanj 4\n",
      "sanju 5\n",
      "\n",
      "\n",
      "sanj 4\n",
      "san 3\n",
      "sa 2\n",
      "s 1\n"
     ]
    }
   ],
   "source": [
    "name = \"sanju\"\n",
    "for i in range(len(name)+1):\n",
    "    print(name[0:i],i)\n",
    "print('\\n')\n",
    "\n",
    "for i in range(len(name)-1, 0, -1):\n",
    "    print(name[0:i],i)\n",
    "    \n"
   ]
  },
  {
   "cell_type": "code",
   "execution_count": null,
   "metadata": {},
   "outputs": [],
   "source": []
  }
 ],
 "metadata": {
  "kernelspec": {
   "display_name": "Python 3",
   "language": "python",
   "name": "python3"
  },
  "language_info": {
   "codemirror_mode": {
    "name": "ipython",
    "version": 3
   },
   "file_extension": ".py",
   "mimetype": "text/x-python",
   "name": "python",
   "nbconvert_exporter": "python",
   "pygments_lexer": "ipython3",
   "version": "3.7.3"
  }
 },
 "nbformat": 4,
 "nbformat_minor": 2
}
